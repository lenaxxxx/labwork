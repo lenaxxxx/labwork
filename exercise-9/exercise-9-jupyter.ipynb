{
 "cells": [
  {
   "cell_type": "markdown",
   "metadata": {},
   "source": [
    "## In lab work\n",
    "\n",
    "\n",
    "1. How many fossils are included in the dataset?   2946\n",
    "2. How many fossils have been identified to genus-level only? 607\n",
    "How many to species-level? 2106\n",
    "3. How many unique accepted names are part of this dataset? 211\n"
   ]
  },
  {
   "cell_type": "markdown",
   "metadata": {
    "collapsed": true
   },
   "source": [
    "### python ~/PyRate/PyRate.py --help\n",
    "\n",
    "\n",
    "1. How can we change the sampling frequency of our PyRate run?   -s  flag\n",
    "\n",
    "2. What does the -n flag achieve?  mcmc generations\n",
    "\n"
   ]
  },
  {
   "cell_type": "markdown",
   "metadata": {},
   "source": [
    "### Summary of what each of these three files in pyrate_mcmc_logs show\n",
    "**sum.txt**\n",
    "\n",
    "Text file providing the complete list of settings used in the analysis.\n",
    "\n",
    "\n",
    "**mcmc.log**\n",
    "\n",
    "Tab-separated table with the MCMC samples of the posterior, prior, likelihoods of the preservation process and of the birth-death (indicated by PP_lik and BD_lik, respectively), the preservation rate (q_rate), the shape parameter of its gamma-distributed heterogeneity (alpha), the number of sampled rate shifts (k_birth, k_death), the time of origin of the oldest lineage (root_age), the total branch length (tot_length), and the times of speciation and extinction of all taxa in the data set (\\_TS and \\_TE, respectively). When using the TPP model of preservation, the preservation rates between shifts are indicated as q_0, q_1, ... q_n (from older to younger).\n",
    "\n",
    "\n",
    "**marginal_rates.log**\n",
    "\n",
    "Tab-separated table with the posterior samples of the marginal rates of speciation, extinction, and net diversification, calculated within 1 time unit (typically Myr). "
   ]
  },
  {
   "cell_type": "code",
   "execution_count": null,
   "metadata": {
    "collapsed": true
   },
   "outputs": [],
   "source": []
  }
 ],
 "metadata": {
  "anaconda-cloud": {},
  "kernelspec": {
   "display_name": "Python [default]",
   "language": "python",
   "name": "python3"
  },
  "language_info": {
   "codemirror_mode": {
    "name": "ipython",
    "version": 3
   },
   "file_extension": ".py",
   "mimetype": "text/x-python",
   "name": "python",
   "nbconvert_exporter": "python",
   "pygments_lexer": "ipython3",
   "version": "3.5.2"
  }
 },
 "nbformat": 4,
 "nbformat_minor": 2
}
