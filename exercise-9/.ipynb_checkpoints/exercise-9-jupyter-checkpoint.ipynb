{
 "cells": [
  {
   "cell_type": "markdown",
   "metadata": {},
   "source": [
    "## In lab work\n",
    "\n",
    "\n",
    "1. How many fossils are included in the dataset?   2946\n",
    "2. How many fossils have been identified to genus-level only? 607\n",
    "How many to species-level? 2106\n",
    "3. How many unique accepted names are part of this dataset? 211\n"
   ]
  },
  {
   "cell_type": "markdown",
   "metadata": {
    "collapsed": true
   },
   "source": [
    "### python ~/PyRate/PyRate.py --help\n",
    "\n",
    "\n",
    "1. How can we change the sampling frequency of our PyRate run?   -s  flag\n",
    "\n",
    "2. What does the -n flag achieve?  mcmc generations\n",
    "\n"
   ]
  },
  {
   "cell_type": "markdown",
   "metadata": {},
   "source": [
    "### Summary of what each of these three files in pyrate_mcmc_logs show\n",
    "**sum.txt**\n",
    "\n",
    "Text file providing the complete list of settings used in the analysis.\n",
    "\n",
    "\n",
    "**mcmc.log**\n",
    "\n",
    "Tab-separated table with the MCMC samples of the posterior, prior, likelihoods of the preservation process and of the birth-death (indicated by PP_lik and BD_lik, respectively), the preservation rate (q_rate), the shape parameter of its gamma-distributed heterogeneity (alpha), the number of sampled rate shifts (k_birth, k_death), the time of origin of the oldest lineage (root_age), the total branch length (tot_length), and the times of speciation and extinction of all taxa in the data set (\\_TS and \\_TE, respectively). When using the TPP model of preservation, the preservation rates between shifts are indicated as q_0, q_1, ... q_n (from older to younger).\n",
    "\n",
    "\n",
    "**marginal_rates.log**\n",
    "\n",
    "Tab-separated table with the posterior samples of the marginal rates of speciation, extinction, and net diversification, calculated within 1 time unit (typically Myr). "
   ]
  },
  {
   "cell_type": "markdown",
   "metadata": {
    "collapsed": true
   },
   "source": [
    "## Homework answers\n",
    "**a. Describe the changes in Speciation rates across the Canidae lineage.**\n",
    "\n",
    "The speciation rate is slowly decreasing from 50 ma (0.27) to 10ma(0.1), with 2 biggest drops: one before 30ma and the other one is at around 20 ma. After 10ma and till nowadays, the speciation rate is gradually increasing back to the rate similar to 50ma.\n",
    "\n",
    "**b. Describe the changes in Extinction rates across the Canidae lineage. **\n",
    "\n",
    "The extinction rate was very low throught the time and rised sharply only in recent years (2ma), from constant 0.1-0.15 increased rapidly to 1.2\n",
    "\n",
    "\n",
    "**c. Describe the changes in Diversification rates across the Canidae lineage.**\n",
    "\n",
    "The net diversification rate was positive from 50ma to 20ma, with slowly decreasing rate. It reached negative value between 20-10ma, however still bery close to 0 (which means no change in diversification). From 10-nowadays, the diversification rate increased and sharply decreased to almost -1.0, which is the lowest rate since 50ma."
   ]
  },
  {
   "cell_type": "markdown",
   "metadata": {},
   "source": [
    "**Do you see anything different about these RTT plots compared to the ones you had made with only 250000 steps in the MCMC chain?**\n",
    "the 2500000 steps have more detailed graph compared to the 250000, there are more ups and downs and it seems more accurate. although looking at the bicture is similar\n"
   ]
  },
  {
   "cell_type": "code",
   "execution_count": null,
   "metadata": {
    "collapsed": true
   },
   "outputs": [],
   "source": []
  }
 ],
 "metadata": {
  "anaconda-cloud": {},
  "kernelspec": {
   "display_name": "Python [default]",
   "language": "python",
   "name": "python3"
  },
  "language_info": {
   "codemirror_mode": {
    "name": "ipython",
    "version": 3
   },
   "file_extension": ".py",
   "mimetype": "text/x-python",
   "name": "python",
   "nbconvert_exporter": "python",
   "pygments_lexer": "ipython3",
   "version": "3.5.2"
  }
 },
 "nbformat": 4,
 "nbformat_minor": 2
}
