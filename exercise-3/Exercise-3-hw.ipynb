{
 "cells": [
  {
   "cell_type": "code",
   "execution_count": 9,
   "metadata": {
    "collapsed": false
   },
   "outputs": [
    {
     "name": "stdout",
     "output_type": "stream",
     "text": [
      "20\n"
     ]
    }
   ],
   "source": [
    "a = 3\n",
    "b = 17\n",
    "c = (a + b)\n",
    "print(c)"
   ]
  },
  {
   "cell_type": "code",
   "execution_count": 11,
   "metadata": {
    "collapsed": false
   },
   "outputs": [
    {
     "data": {
      "text/plain": [
       "True"
      ]
     },
     "execution_count": 11,
     "metadata": {},
     "output_type": "execute_result"
    }
   ],
   "source": [
    "favorite_animal = \"giant panda\"\n",
    "favorite_animal == \"giant panda\""
   ]
  },
  {
   "cell_type": "code",
   "execution_count": 12,
   "metadata": {
    "collapsed": false
   },
   "outputs": [
    {
     "data": {
      "text/plain": [
       "3"
      ]
     },
     "execution_count": 12,
     "metadata": {},
     "output_type": "execute_result"
    }
   ],
   "source": [
    "favorite_dinners = [\"spicy chinese food\", \"korean bbq\", \"sushi\"]\n",
    "len(favorite_dinners)"
   ]
  },
  {
   "cell_type": "code",
   "execution_count": 3,
   "metadata": {
    "collapsed": false
   },
   "outputs": [
    {
     "name": "stdout",
     "output_type": "stream",
     "text": [
      "It's pretty warm!\n"
     ]
    }
   ],
   "source": [
    "#hw3_function\n",
    "def hw3_function(count):\n",
    "    if count < 5:\n",
    "        print (\"Brr! It's cold!\")\n",
    "    elif count > 25:\n",
    "        print(\"It's pretty warm!\")\n",
    "    else:\n",
    "        print (\"what a pleasant temperature!\")\n",
    "    \n",
    "hw3_function(30)    "
   ]
  },
  {
   "cell_type": "code",
   "execution_count": 3,
   "metadata": {
    "collapsed": false
   },
   "outputs": [],
   "source": [
    "#python regular expression finding restriction site\n",
    "import re\n",
    "dna = \"ATAATTAACGGAGCTTATTA\"\n",
    "if re.search(r\"G(A|T)(A|T)G(A|T|G|C)\", dna):\n",
    "    print(\"restriction site found!\")\n"
   ]
  },
  {
   "cell_type": "code",
   "execution_count": null,
   "metadata": {
    "collapsed": false
   },
   "outputs": [
    {
     "name": "stdout",
     "output_type": "stream",
     "text": [
      "Rock, Paper, Scissors?Rock\n",
      "You picked rock; Computer picked paper; +1 for computer!\n",
      "Rock, Paper, Scissors?paper\n",
      "Try again\n",
      "Rock, Paper, Scissors?Paper\n",
      "You picked paper; Computer picked rock; +1 for you!\n",
      "Rock, Paper, Scissors?Scissors\n",
      "You picked scissors; Computer picked rock; +1 for computer!\n",
      "Rock, Paper, Scissors?Scissors\n",
      "You picked scissors; Computer picked rock; +1 for computer!\n",
      "Rock, Paper, Scissors?Scissors\n",
      "You picked scissor; Computer picked scissors; this is a tie!\n"
     ]
    }
   ],
   "source": [
    "# Rock Paper Scissors Game\n",
    "from random import randint\n",
    " \n",
    "#create a list of play options\n",
    "t = [\"Rock\", \"Paper\", \"Scissors\"]\n",
    " \n",
    "#assign a random play to the computer\n",
    "computer = t[randint(0,2)]\n",
    " \n",
    "#set player to False\n",
    "player = False\n",
    " \n",
    "while player == False:\n",
    "#set player to True\n",
    "    player = input(\"Rock, Paper, Scissors?\")\n",
    "    if player == \"Rock\":\n",
    "        if computer == \"Rock\":\n",
    "            print(\"You picked rock; Computer picked rock; this is a tie!\")\n",
    "        elif computer == \"Paper\":\n",
    "            print(\"You picked rock; Computer picked paper; +1 for computer!\")\n",
    "        elif computer == \"Scissors\":\n",
    "            print (\"You picked rock; Computer picked scissors; +1 for you!\")\n",
    "    elif player == \"Paper\":\n",
    "        if computer == \"Rock\":\n",
    "            print(\"You picked paper; Computer picked rock; +1 for you!\")\n",
    "        elif computer == \"Paper\":\n",
    "            print(\"You picked paper; Computer picked paper; this is a tie!\")\n",
    "        elif computer == \"Scissors\":\n",
    "            print (\"You picked paper; Computer picked scissors; +1 for computer!\")\n",
    "    elif player == \"Scissors\":\n",
    "        if computer == \"Rock\":\n",
    "            print(\"You picked scissors; Computer picked rock; +1 for computer!\")\n",
    "        elif computer == \"Paper\":\n",
    "            print(\"You picked scissors; Computer picked paper; +1 for you!\")\n",
    "        elif computer == \"Scissors\":\n",
    "            print (\"You picked scissor; Computer picked scissors; this is a tie!\")    \n",
    "    else:\n",
    "        print(\"Try again\")\n",
    "    #player was set to True, but we want it to be False so the loop continues\n",
    "    player = False\n",
    "    computer = t[randint(0,2)]\n",
    "    \n",
    "Rock"
   ]
  },
  {
   "cell_type": "code",
   "execution_count": null,
   "metadata": {
    "collapsed": false
   },
   "outputs": [],
   "source": []
  },
  {
   "cell_type": "code",
   "execution_count": null,
   "metadata": {
    "collapsed": true
   },
   "outputs": [],
   "source": []
  },
  {
   "cell_type": "code",
   "execution_count": null,
   "metadata": {
    "collapsed": true
   },
   "outputs": [],
   "source": []
  },
  {
   "cell_type": "code",
   "execution_count": null,
   "metadata": {
    "collapsed": true
   },
   "outputs": [],
   "source": []
  }
 ],
 "metadata": {
  "anaconda-cloud": {},
  "kernelspec": {
   "display_name": "Python [conda root]",
   "language": "python",
   "name": "conda-root-py"
  },
  "language_info": {
   "codemirror_mode": {
    "name": "ipython",
    "version": 3
   },
   "file_extension": ".py",
   "mimetype": "text/x-python",
   "name": "python",
   "nbconvert_exporter": "python",
   "pygments_lexer": "ipython3",
   "version": "3.5.2"
  }
 },
 "nbformat": 4,
 "nbformat_minor": 2
}
