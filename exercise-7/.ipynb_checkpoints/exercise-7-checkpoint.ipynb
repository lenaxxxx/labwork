{
 "cells": [
  {
   "cell_type": "code",
   "execution_count": 1,
   "metadata": {
    "collapsed": false
   },
   "outputs": [],
   "source": [
    "# load in the file\n",
    "\n",
    "in_file = open (\"/home/eeb177-student/Desktop/eeb-177/class-assignments/week-7-file/cocoli.txt\")\n",
    "#read in the first line\n",
    "# its a header that we dont want in dictionaries\n",
    "in_file.readline()\n",
    "#set up empty dictionaries\n",
    "sizes_94 = {}\n",
    "sizes_97 = {}\n",
    "sizes_98 = {}\n",
    "\n",
    "for line in in_file:\n",
    "    items = line.split()\n",
    "    tree_id = items[0]\n",
    "    size_in_94 = float(items[4])# we need to force them to become int, because if its not int it will not be plotted\n",
    "    size_in_97 = float(items[5])\n",
    "    size_in_98 = float(items[5])\n",
    "    sizes_94[tree_id] = size_in_94\n",
    "    sizes_97[tree_id] = size_in_97\n",
    "    sizes_98[tree_id] = size_in_98\n",
    "\n",
    "#print(sizes_94)"
   ]
  },
  {
   "cell_type": "code",
   "execution_count": null,
   "metadata": {
    "collapsed": false
   },
   "outputs": [],
   "source": []
  },
  {
   "cell_type": "code",
   "execution_count": 2,
   "metadata": {
    "collapsed": false
   },
   "outputs": [
    {
     "data": {
      "image/png": "[encoded data removed]",
      "text/plain": [
       "<matplotlib.figure.Figure at 0x7fb8c8256fd0>"
      ]
     },
     "metadata": {},
     "output_type": "display_data"
    }
   ],
   "source": [
    "import matplotlib.pyplot as plt # this works best on dictionaries\n",
    "\n",
    "# plot some histograms \n",
    "sizes_in_94 = list(sizes_94.values())\n",
    "\n",
    "\n",
    "plt.hist(sizes_in_94,log = True) #\n",
    "plt.show()"
   ]
  },
  {
   "cell_type": "code",
   "execution_count": 3,
   "metadata": {
    "collapsed": false
   },
   "outputs": [
    {
     "data": {
      "image/png": "[encoded data removed]",
      "text/plain": [
       "<matplotlib.figure.Figure at 0x7fb8a5ecedd8>"
      ]
     },
     "metadata": {},
     "output_type": "display_data"
    }
   ],
   "source": [
    "f, (ax1, ax2) = plt.subplots(1,2,sharex = True)\n",
    "ax1.hist(sizes_in_94, log = False)\n",
    "ax1.set_title('Unlogged 1994')\n",
    "ax2.hist(sizes_in_94, log = True)\n",
    "ax2.set_title('Logged 1994')\n",
    "plt.show()"
   ]
  },
  {
   "cell_type": "code",
   "execution_count": 42,
   "metadata": {
    "collapsed": false
   },
   "outputs": [],
   "source": [
    "# make the item as value if the value is not -2\n",
    "temp = ()\n",
    "sizes_in_94[:] = (value for value in sizes_in_94 if value != -2) \n"
   ]
  },
  {
   "cell_type": "code",
   "execution_count": 4,
   "metadata": {
    "collapsed": false
   },
   "outputs": [
    {
     "data": {
      "image/png": "[encoded data removed]",
      "text/plain": [
       "<matplotlib.figure.Figure at 0x7fb8a5f0c940>"
      ]
     },
     "metadata": {},
     "output_type": "display_data"
    }
   ],
   "source": [
    "# make lists\n",
    "sizes_in_94 = list(sizes_94.values())\n",
    "#sizes_in_94[:] = (value for value in sizes_in_94 if value != -2) \n",
    "\n",
    "sizes_in_97 = list(sizes_97.values())\n",
    "#sizes_in_97[:] = (value for value in sizes_in_94 if value != -2) \n",
    "\n",
    "\n",
    "plt.plot(sizes_in_94, sizes_in_97, 'ro') # ro means red and point\n",
    "plt.show()"
   ]
  },
  {
   "cell_type": "code",
   "execution_count": null,
   "metadata": {
    "collapsed": true
   },
   "outputs": [],
   "source": []
  }
 ],
 "metadata": {
  "anaconda-cloud": {},
  "kernelspec": {
   "display_name": "Python [default]",
   "language": "python",
   "name": "python3"
  },
  "language_info": {
   "codemirror_mode": {
    "name": "ipython",
    "version": 3
   },
   "file_extension": ".py",
   "mimetype": "text/x-python",
   "name": "python",
   "nbconvert_exporter": "python",
   "pygments_lexer": "ipython3",
   "version": "3.5.2"
  }
 },
 "nbformat": 4,
 "nbformat_minor": 2
}
