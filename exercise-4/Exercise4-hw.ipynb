{
 "cells": [
  {
   "cell_type": "code",
   "execution_count": 6,
   "metadata": {
    "collapsed": false
   },
   "outputs": [],
   "source": [
    "#Homework"
   ]
  },
  {
   "cell_type": "code",
   "execution_count": 10,
   "metadata": {
    "collapsed": false
   },
   "outputs": [
    {
     "name": "stdout",
     "output_type": "stream",
     "text": [
      "[100, 101, 102, 103, 104, 105, 106, 107, 108, 109, 110]\n"
     ]
    }
   ],
   "source": [
    "#Write a for-loop that prints out the numbers from 100 to 110.\n",
    "list_of_numbers = []\n",
    "for current_number in (range(100, 111)):\n",
    "    list_of_numbers.append(current_number)\n",
    "\n",
    "print(list_of_numbers)"
   ]
  },
  {
   "cell_type": "code",
   "execution_count": 13,
   "metadata": {
    "collapsed": false
   },
   "outputs": [
    {
     "name": "stdout",
     "output_type": "stream",
     "text": [
      "[100, 101, 102, 103, 104, 105, 106, 107, 108, 109, 110]\n"
     ]
    }
   ],
   "source": [
    "#Write a while- loop that prints out the numbers from 100 to 110.\n",
    "list_of_numbers = 100\n",
    "numbers = []\n",
    "while list_of_numbers < 111:\n",
    "    numbers.append(list_of_numbers)\n",
    "    list_of_numbers = list_of_numbers + 1\n",
    "\n",
    "print (numbers)"
   ]
  },
  {
   "cell_type": "code",
   "execution_count": 14,
   "metadata": {
    "collapsed": false
   },
   "outputs": [
    {
     "name": "stdout",
     "output_type": "stream",
     "text": [
      "[100, 121, 144, 169, 196, 225]\n"
     ]
    }
   ],
   "source": [
    "#Write a loop that prints out the squares of the numbers from 10-15. \n",
    "#This can be a for or a while loop.\n",
    "list_of_squares = 10\n",
    "squares = []\n",
    "while list_of_squares < 16:\n",
    "    squares.append(list_of_squares**2)\n",
    "    list_of_squares = list_of_squares + 1\n",
    "\n",
    "print (squares)"
   ]
  },
  {
   "cell_type": "code",
   "execution_count": 16,
   "metadata": {
    "collapsed": false
   },
   "outputs": [
    {
     "name": "stdout",
     "output_type": "stream",
     "text": [
      "Scooby is a character in that most glorious of cartoons, Scooby Doo\n",
      "\n",
      "\n",
      "Shaggy is a character in that most glorious of cartoons, Scooby Doo\n",
      "\n",
      "\n",
      "Velma is a character in that most glorious of cartoons, Scooby Doo\n",
      "\n",
      "\n",
      "Daphne is a character in that most glorious of cartoons, Scooby Doo\n",
      "\n",
      "\n",
      "Fred is a character in that most glorious of cartoons, Scooby Doo\n",
      "\n",
      "\n"
     ]
    }
   ],
   "source": [
    "#Write a loop that iterates over the list [\"Scooby\", \"Shaggy\", \"Velma\", \"Daphne\", \"Fred\"] \n",
    "#and for each character prints the statement \"XXX is a character in that most glorious of cartoons, Scooby Doo\".\n",
    "for item in [\"Scooby\", \"Shaggy\", \"Velma\", \"Daphne\", \"Fred\"]:\n",
    "    # print a line the item's virtues\n",
    "    print( item + \" is a character in that most glorious of cartoons, Scooby Doo\")\n",
    "\n",
    "    print(\"\\n\")"
   ]
  },
  {
   "cell_type": "code",
   "execution_count": 20,
   "metadata": {
    "collapsed": false
   },
   "outputs": [
    {
     "ename": "SyntaxError",
     "evalue": "invalid syntax (<ipython-input-20-081ee058304f>, line 11)",
     "output_type": "error",
     "traceback": [
      "\u001b[0;36m  File \u001b[0;32m\"<ipython-input-20-081ee058304f>\"\u001b[0;36m, line \u001b[0;32m11\u001b[0m\n\u001b[0;31m    if fact_or_sum = 0\u001b[0m\n\u001b[0m                   ^\u001b[0m\n\u001b[0;31mSyntaxError\u001b[0m\u001b[0;31m:\u001b[0m invalid syntax\n"
     ]
    }
   ],
   "source": [
    "#Write a function that meets the following criteria:\n",
    "    #1. The function must be named \"fact_or_sum\"   \n",
    "    #2. The function must take in one input, which must be an integer. If the user inputs a string, the function should return an error message.\n",
    "    #3. If the input integer is 0, the function returns the number 0.  \n",
    "    #4. If the input integer is an odd number, the function returns the factorial of the number. \n",
    "    #4a. A factorial is computed as the product of a number and each integer below that number, until 1 (e.g. n*(n-1)*(n-2)...*1)\n",
    "    #5. The factorial MUST be computed with a for loop. \n",
    "    #6. If the input integer is an even number, the function returns the sum of that number and all numbers below it, until 1 (e.g. n+(n-1)+(n-2)...+1).\n",
    "    #6a. The sum must be computed with a while loop.\n",
    "fact_or_sum = []\n",
    "if fact_or_sum = 0\n",
    "    print(\"0\")\n",
    "if fact_or_sum = \n",
    "\n",
    "if fact_or_sum = \n",
    "    while fact_or_sum > 0\n",
    "    sum = fact_or_sum\n",
    "    fact_or_sum = fact_or_sum - 1\n",
    "else\n",
    "    print(\"error\")"
   ]
  },
  {
   "cell_type": "code",
   "execution_count": null,
   "metadata": {
    "collapsed": false
   },
   "outputs": [],
   "source": []
  },
  {
   "cell_type": "code",
   "execution_count": null,
   "metadata": {
    "collapsed": true
   },
   "outputs": [],
   "source": []
  },
  {
   "cell_type": "code",
   "execution_count": null,
   "metadata": {
    "collapsed": true
   },
   "outputs": [],
   "source": []
  }
 ],
 "metadata": {
  "anaconda-cloud": {},
  "kernelspec": {
   "display_name": "Python [conda root]",
   "language": "python",
   "name": "conda-root-py"
  },
  "language_info": {
   "codemirror_mode": {
    "name": "ipython",
    "version": 3
   },
   "file_extension": ".py",
   "mimetype": "text/x-python",
   "name": "python",
   "nbconvert_exporter": "python",
   "pygments_lexer": "ipython3",
   "version": "3.5.2"
  }
 },
 "nbformat": 4,
 "nbformat_minor": 2
}
